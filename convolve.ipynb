{
 "metadata": {
  "language_info": {
   "codemirror_mode": {
    "name": "ipython",
    "version": 3
   },
   "file_extension": ".py",
   "mimetype": "text/x-python",
   "name": "python",
   "nbconvert_exporter": "python",
   "pygments_lexer": "ipython3",
   "version": "3.8.5-final"
  },
  "orig_nbformat": 2,
  "kernelspec": {
   "name": "python3",
   "display_name": "Python 3.8.5 64-bit ('ml': conda)",
   "metadata": {
    "interpreter": {
     "hash": "e4a0063fc22f33857baeae62b0e371600a113bf5ae6c7dcc6901361d3180b32f"
    }
   }
  }
 },
 "nbformat": 4,
 "nbformat_minor": 2,
 "cells": [
  {
   "cell_type": "code",
   "execution_count": 1,
   "metadata": {},
   "outputs": [],
   "source": [
    "import numpy as np"
   ]
  },
  {
   "cell_type": "code",
   "execution_count": 24,
   "metadata": {},
   "outputs": [
    {
     "output_type": "execute_result",
     "data": {
      "text/plain": [
       "array([[143, 218, 157,  12, 101],\n",
       "       [189, 190, 222, 208, 146],\n",
       "       [ 63, 126, 141, 187,  29],\n",
       "       [218, 217,  31,  61, 174],\n",
       "       [241,   2,  68, 123, 223]])"
      ]
     },
     "metadata": {},
     "execution_count": 24
    }
   ],
   "source": [
    "X = np.random.randint(low=0,high=255,size=(5,5))\n",
    "X"
   ]
  },
  {
   "cell_type": "code",
   "execution_count": 25,
   "metadata": {},
   "outputs": [
    {
     "output_type": "execute_result",
     "data": {
      "text/plain": [
       "63"
      ]
     },
     "metadata": {},
     "execution_count": 25
    }
   ],
   "source": [
    "X[2, 0] # [row, col]"
   ]
  },
  {
   "cell_type": "code",
   "execution_count": 26,
   "metadata": {},
   "outputs": [
    {
     "output_type": "execute_result",
     "data": {
      "text/plain": [
       "array([[143, 218, 157],\n",
       "       [189, 190, 222],\n",
       "       [ 63, 126, 141]])"
      ]
     },
     "metadata": {},
     "execution_count": 26
    }
   ],
   "source": [
    "x = 0\n",
    "y = 0\n",
    "X[y: y+3, x: x+3]"
   ]
  },
  {
   "source": [
    "$x$ is the column pointer, $y$ is the row pointer. Let's consider row selection ($y$): start from row 0 and select up to 3. Now let's consider column selection ($x$): start from 0 and select up to 3.\n",
    "\n",
    "It may be strange to see $x$ represent columns, but recall that images have their origin in the top left corner. From this point of view, we can think of moving to the right across columns as the $x$ direction and going down the rows as $y$ direction.\n",
    "\n",
    "So how can we iterate over every pixel of the image?"
   ],
   "cell_type": "markdown",
   "metadata": {}
  },
  {
   "cell_type": "code",
   "execution_count": 27,
   "metadata": {},
   "outputs": [
    {
     "output_type": "stream",
     "name": "stdout",
     "text": [
      "(0, 0)\n(0, 1)\n(0, 2)\n(0, 3)\n(0, 4)\n(1, 0)\n(1, 1)\n(1, 2)\n(1, 3)\n(1, 4)\n(2, 0)\n(2, 1)\n(2, 2)\n(2, 3)\n(2, 4)\n(3, 0)\n(3, 1)\n(3, 2)\n(3, 3)\n(3, 4)\n(4, 0)\n(4, 1)\n(4, 2)\n(4, 3)\n(4, 4)\n"
     ]
    }
   ],
   "source": [
    "x, y = X.shape\n",
    "for x_i in range(x):\n",
    "    for y_i in range(y):\n",
    "        print(f\"({x_i}, {y_i})\")"
   ]
  },
  {
   "source": [
    "Great! Now let's iterate over a $2 \\times 2$ subset of pixels."
   ],
   "cell_type": "markdown",
   "metadata": {}
  },
  {
   "cell_type": "code",
   "execution_count": 31,
   "metadata": {},
   "outputs": [
    {
     "output_type": "execute_result",
     "data": {
      "text/plain": [
       "array([[143, 218, 157,  12, 101],\n",
       "       [189, 190, 222, 208, 146],\n",
       "       [ 63, 126, 141, 187,  29],\n",
       "       [218, 217,  31,  61, 174],\n",
       "       [241,   2,  68, 123, 223]])"
      ]
     },
     "metadata": {},
     "execution_count": 31
    }
   ],
   "source": [
    "X"
   ]
  },
  {
   "cell_type": "code",
   "execution_count": 37,
   "metadata": {},
   "outputs": [
    {
     "output_type": "stream",
     "name": "stdout",
     "text": [
      "[[143 218]\n [189 190]]\n\n[[218 157]\n [190 222]]\n\n[[157  12]\n [222 208]]\n\n[[ 12 101]\n [208 146]]\n\n[[101]\n [146]]\n\n[[189 190]\n [ 63 126]]\n\n[[190 222]\n [126 141]]\n\n[[222 208]\n [141 187]]\n\n[[208 146]\n [187  29]]\n\n[[146]\n [ 29]]\n\n[[ 63 126]\n [218 217]]\n\n[[126 141]\n [217  31]]\n\n[[141 187]\n [ 31  61]]\n\n[[187  29]\n [ 61 174]]\n\n[[ 29]\n [174]]\n\n[[218 217]\n [241   2]]\n\n[[217  31]\n [  2  68]]\n\n[[ 31  61]\n [ 68 123]]\n\n[[ 61 174]\n [123 223]]\n\n[[174]\n [223]]\n\n[[241   2]]\n\n[[ 2 68]]\n\n[[ 68 123]]\n\n[[123 223]]\n\n[[223]]\n\n"
     ]
    }
   ],
   "source": [
    "x, y = X.shape\n",
    "for x_i in range(x):\n",
    "    # print(X[x_i])\n",
    "    for y_i in range(y):\n",
    "        # print(X[:,y_i])\n",
    "        # S = X[y_i: y_i+2, x_i: x_i+2]\n",
    "        S = X[x_i: x_i+2, y_i: y_i+2]\n",
    "        print(S)\n",
    "        print()\n",
    "        "
   ]
  },
  {
   "source": [
    "This scan works as expected but we can see that not all elements are $2 \\times 2$ as we expect them to be. This always happens when we're at the edge of the matrix.\n",
    "\n",
    "One way to fix this is to add zero-padding where we add a certain number of rows and columns to all sides of the matrix. In this case, because we're interested in a $2 \\times 2$ view, let's pad $X$ with a single layer of 0's on all sides."
   ],
   "cell_type": "markdown",
   "metadata": {}
  },
  {
   "cell_type": "code",
   "execution_count": 40,
   "metadata": {},
   "outputs": [
    {
     "output_type": "execute_result",
     "data": {
      "text/plain": [
       "array([[  0,   0,   0,   0,   0,   0,   0],\n",
       "       [  0, 143, 218, 157,  12, 101,   0],\n",
       "       [  0, 189, 190, 222, 208, 146,   0],\n",
       "       [  0,  63, 126, 141, 187,  29,   0],\n",
       "       [  0, 218, 217,  31,  61, 174,   0],\n",
       "       [  0, 241,   2,  68, 123, 223,   0],\n",
       "       [  0,   0,   0,   0,   0,   0,   0]])"
      ]
     },
     "metadata": {},
     "execution_count": 40
    }
   ],
   "source": [
    "X_pad = np.pad(X, (1,1), mode='constant')\n",
    "X_pad"
   ]
  },
  {
   "source": [
    "Great, the padding worked! Now let's try that again."
   ],
   "cell_type": "markdown",
   "metadata": {}
  },
  {
   "cell_type": "code",
   "execution_count": 49,
   "metadata": {},
   "outputs": [
    {
     "output_type": "stream",
     "name": "stdout",
     "text": [
      "[[  0   0]\n [  0 143]]\n\n[[  0   0]\n [143 218]]\n\n[[  0   0]\n [218 157]]\n\n[[  0   0]\n [157  12]]\n\n[[  0   0]\n [ 12 101]]\n\n[[  0 143]\n [  0 189]]\n\n[[143 218]\n [189 190]]\n\n[[218 157]\n [190 222]]\n\n[[157  12]\n [222 208]]\n\n[[ 12 101]\n [208 146]]\n\n[[  0 189]\n [  0  63]]\n\n[[189 190]\n [ 63 126]]\n\n[[190 222]\n [126 141]]\n\n[[222 208]\n [141 187]]\n\n[[208 146]\n [187  29]]\n\n[[  0  63]\n [  0 218]]\n\n[[ 63 126]\n [218 217]]\n\n[[126 141]\n [217  31]]\n\n[[141 187]\n [ 31  61]]\n\n[[187  29]\n [ 61 174]]\n\n[[  0 218]\n [  0 241]]\n\n[[218 217]\n [241   2]]\n\n[[217  31]\n [  2  68]]\n\n[[ 31  61]\n [ 68 123]]\n\n[[ 61 174]\n [123 223]]\n\n"
     ]
    }
   ],
   "source": [
    "x, y = X_pad.shape\n",
    "for x_i in range(x):\n",
    "    for y_i in range(y):\n",
    "        if x_i >= (x-2):\n",
    "            continue\n",
    "        if y_i >= (y-2):\n",
    "            continue\n",
    "        S = X_pad[x_i: x_i+2, y_i: y_i+2]\n",
    "        print(S)\n",
    "        print()"
   ]
  },
  {
   "source": [
    "Perfect! Now let's look at how we can element-wise multiply $S$ by another matrix representing the kernel which we call $K$."
   ],
   "cell_type": "markdown",
   "metadata": {}
  },
  {
   "cell_type": "code",
   "execution_count": 54,
   "metadata": {},
   "outputs": [
    {
     "output_type": "stream",
     "name": "stdout",
     "text": [
      "[[-3  3]\n [ 3 -1]]\n\n\n[[   0    0]\n [   0 -143]]\n\n[[   0    0]\n [ 429 -218]]\n\n[[   0    0]\n [ 654 -157]]\n\n[[  0   0]\n [471 -12]]\n\n[[   0    0]\n [  36 -101]]\n\n[[   0  429]\n [   0 -189]]\n\n[[-429  654]\n [ 567 -190]]\n\n[[-654  471]\n [ 570 -222]]\n\n[[-471   36]\n [ 666 -208]]\n\n[[ -36  303]\n [ 624 -146]]\n\n[[  0 567]\n [  0 -63]]\n\n[[-567  570]\n [ 189 -126]]\n\n[[-570  666]\n [ 378 -141]]\n\n[[-666  624]\n [ 423 -187]]\n\n[[-624  438]\n [ 561  -29]]\n\n[[   0  189]\n [   0 -218]]\n\n[[-189  378]\n [ 654 -217]]\n\n[[-378  423]\n [ 651  -31]]\n\n[[-423  561]\n [  93  -61]]\n\n[[-561   87]\n [ 183 -174]]\n\n[[   0  654]\n [   0 -241]]\n\n[[-654  651]\n [ 723   -2]]\n\n[[-651   93]\n [   6  -68]]\n\n[[ -93  183]\n [ 204 -123]]\n\n[[-183  522]\n [ 369 -223]]\n\n"
     ]
    }
   ],
   "source": [
    "K = np.random.randint(low=-5, high=5, size=(2,2))\n",
    "print(K)\n",
    "print()\n",
    "print()\n",
    "x, y = X_pad.shape\n",
    "for x_i in range(x):\n",
    "    for y_i in range(y):\n",
    "        if x_i >= (x-2):\n",
    "            continue\n",
    "        if y_i >= (y-2):\n",
    "            continue\n",
    "        S = X_pad[x_i: x_i+2, y_i: y_i+2]\n",
    "        print(K*S)\n",
    "        print()"
   ]
  },
  {
   "source": [
    "Awesome. Now let's sum those matrices."
   ],
   "cell_type": "markdown",
   "metadata": {}
  },
  {
   "cell_type": "code",
   "execution_count": 58,
   "metadata": {},
   "outputs": [
    {
     "output_type": "stream",
     "name": "stdout",
     "text": [
      "[[-2 -2]\n [ 4 -2]]\n\n\n-286\n\n136\n\n558\n\n604\n\n-154\n\n-664\n\n-346\n\n-434\n\n134\n\n314\n\n-504\n\n-758\n\n-602\n\n-670\n\n-18\n\n-562\n\n60\n\n272\n\n-654\n\n-536\n\n-918\n\n90\n\n-624\n\n-158\n\n-424\n\n"
     ]
    }
   ],
   "source": [
    "K = np.random.randint(low=-5, high=5, size=(2,2))\n",
    "print(K)\n",
    "print()\n",
    "print()\n",
    "x, y = X_pad.shape\n",
    "for x_i in range(x):\n",
    "    for y_i in range(y):\n",
    "        if x_i >= (x-2):\n",
    "            continue\n",
    "        if y_i >= (y-2):\n",
    "            continue\n",
    "        S = X_pad[x_i: x_i+2, y_i: y_i+2]\n",
    "        print( (K*S).sum() )\n",
    "        print()"
   ]
  },
  {
   "source": [
    "Let's use these sum values to construct a new matrix $Z$."
   ],
   "cell_type": "markdown",
   "metadata": {}
  },
  {
   "cell_type": "code",
   "execution_count": 62,
   "metadata": {},
   "outputs": [
    {
     "output_type": "stream",
     "name": "stdout",
     "text": [
      "Kernel:\n[[ 0  1]\n [ 4 -1]]\n\n\nConvolved:\n"
     ]
    },
    {
     "output_type": "execute_result",
     "data": {
      "text/plain": [
       "array([[-143,  354,  715,  616,  -53],\n",
       "       [ -46,  784,  695,  692,  787],\n",
       "       [ 126,  316,  585,  585,  865],\n",
       "       [-155,  781,  978,  250,   99],\n",
       "       [ -23, 1179,  -29,  210,  443]])"
      ]
     },
     "metadata": {},
     "execution_count": 62
    }
   ],
   "source": [
    "Z = np.zeros_like(X) # transformation should have input dim\n",
    "\n",
    "K = np.random.randint(low=-5, high=5, size=(2,2))\n",
    "print('Kernel:')\n",
    "print(K)\n",
    "print()\n",
    "print()\n",
    "x, y = X_pad.shape\n",
    "for x_i in range(x):\n",
    "    for y_i in range(y):\n",
    "        if x_i >= (x-2):\n",
    "            continue\n",
    "        if y_i >= (y-2):\n",
    "            continue\n",
    "        S = X_pad[x_i: x_i+2, y_i: y_i+2]\n",
    "        Z[x_i, y_i] = (K*S).sum()\n",
    "print('Convolved:')\n",
    "Z"
   ]
  },
  {
   "source": [
    "Done."
   ],
   "cell_type": "markdown",
   "metadata": {}
  }
 ]
}