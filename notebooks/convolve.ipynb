{
 "metadata": {
  "language_info": {
   "codemirror_mode": {
    "name": "ipython",
    "version": 3
   },
   "file_extension": ".py",
   "mimetype": "text/x-python",
   "name": "python",
   "nbconvert_exporter": "python",
   "pygments_lexer": "ipython3",
   "version": "3.8.5-final"
  },
  "orig_nbformat": 2,
  "kernelspec": {
   "name": "python3",
   "display_name": "Python 3.8.5 64-bit ('ml': conda)",
   "metadata": {
    "interpreter": {
     "hash": "e4a0063fc22f33857baeae62b0e371600a113bf5ae6c7dcc6901361d3180b32f"
    }
   }
  }
 },
 "nbformat": 4,
 "nbformat_minor": 2,
 "cells": [
  {
   "cell_type": "code",
   "execution_count": 2,
   "metadata": {},
   "outputs": [],
   "source": [
    "import numpy as np"
   ]
  },
  {
   "cell_type": "code",
   "execution_count": 24,
   "metadata": {},
   "outputs": [
    {
     "output_type": "execute_result",
     "data": {
      "text/plain": [
       "array([[143, 218, 157,  12, 101],\n",
       "       [189, 190, 222, 208, 146],\n",
       "       [ 63, 126, 141, 187,  29],\n",
       "       [218, 217,  31,  61, 174],\n",
       "       [241,   2,  68, 123, 223]])"
      ]
     },
     "metadata": {},
     "execution_count": 24
    }
   ],
   "source": [
    "X = np.random.randint(low=0,high=255,size=(5,5))\n",
    "X"
   ]
  },
  {
   "cell_type": "code",
   "execution_count": 25,
   "metadata": {},
   "outputs": [
    {
     "output_type": "execute_result",
     "data": {
      "text/plain": [
       "63"
      ]
     },
     "metadata": {},
     "execution_count": 25
    }
   ],
   "source": [
    "X[2, 0] # [row, col]"
   ]
  },
  {
   "cell_type": "code",
   "execution_count": 26,
   "metadata": {},
   "outputs": [
    {
     "output_type": "execute_result",
     "data": {
      "text/plain": [
       "array([[143, 218, 157],\n",
       "       [189, 190, 222],\n",
       "       [ 63, 126, 141]])"
      ]
     },
     "metadata": {},
     "execution_count": 26
    }
   ],
   "source": [
    "x = 0\n",
    "y = 0\n",
    "X[y: y+3, x: x+3]"
   ]
  },
  {
   "source": [
    "$x$ is the column pointer, $y$ is the row pointer. Let's consider row selection ($y$): start from row 0 and select up to 3. Now let's consider column selection ($x$): start from 0 and select up to 3.\n",
    "\n",
    "It may be strange to see $x$ represent columns, but recall that images have their origin in the top left corner. From this point of view, we can think of moving to the right across columns as the $x$ direction and going down the rows as $y$ direction.\n",
    "\n",
    "So how can we iterate over every pixel of the image?"
   ],
   "cell_type": "markdown",
   "metadata": {}
  },
  {
   "cell_type": "code",
   "execution_count": 27,
   "metadata": {},
   "outputs": [
    {
     "output_type": "stream",
     "name": "stdout",
     "text": [
      "(0, 0)\n(0, 1)\n(0, 2)\n(0, 3)\n(0, 4)\n(1, 0)\n(1, 1)\n(1, 2)\n(1, 3)\n(1, 4)\n(2, 0)\n(2, 1)\n(2, 2)\n(2, 3)\n(2, 4)\n(3, 0)\n(3, 1)\n(3, 2)\n(3, 3)\n(3, 4)\n(4, 0)\n(4, 1)\n(4, 2)\n(4, 3)\n(4, 4)\n"
     ]
    }
   ],
   "source": [
    "x, y = X.shape\n",
    "for x_i in range(x):\n",
    "    for y_i in range(y):\n",
    "        print(f\"({x_i}, {y_i})\")"
   ]
  },
  {
   "source": [
    "Great! Now let's iterate over a $2 \\times 2$ subset of pixels."
   ],
   "cell_type": "markdown",
   "metadata": {}
  },
  {
   "cell_type": "code",
   "execution_count": 31,
   "metadata": {},
   "outputs": [
    {
     "output_type": "execute_result",
     "data": {
      "text/plain": [
       "array([[143, 218, 157,  12, 101],\n",
       "       [189, 190, 222, 208, 146],\n",
       "       [ 63, 126, 141, 187,  29],\n",
       "       [218, 217,  31,  61, 174],\n",
       "       [241,   2,  68, 123, 223]])"
      ]
     },
     "metadata": {},
     "execution_count": 31
    }
   ],
   "source": [
    "X"
   ]
  },
  {
   "cell_type": "code",
   "execution_count": 37,
   "metadata": {},
   "outputs": [
    {
     "output_type": "stream",
     "name": "stdout",
     "text": [
      "[[143 218]\n [189 190]]\n\n[[218 157]\n [190 222]]\n\n[[157  12]\n [222 208]]\n\n[[ 12 101]\n [208 146]]\n\n[[101]\n [146]]\n\n[[189 190]\n [ 63 126]]\n\n[[190 222]\n [126 141]]\n\n[[222 208]\n [141 187]]\n\n[[208 146]\n [187  29]]\n\n[[146]\n [ 29]]\n\n[[ 63 126]\n [218 217]]\n\n[[126 141]\n [217  31]]\n\n[[141 187]\n [ 31  61]]\n\n[[187  29]\n [ 61 174]]\n\n[[ 29]\n [174]]\n\n[[218 217]\n [241   2]]\n\n[[217  31]\n [  2  68]]\n\n[[ 31  61]\n [ 68 123]]\n\n[[ 61 174]\n [123 223]]\n\n[[174]\n [223]]\n\n[[241   2]]\n\n[[ 2 68]]\n\n[[ 68 123]]\n\n[[123 223]]\n\n[[223]]\n\n"
     ]
    }
   ],
   "source": [
    "x, y = X.shape\n",
    "for x_i in range(x):\n",
    "    # print(X[x_i])\n",
    "    for y_i in range(y):\n",
    "        # print(X[:,y_i])\n",
    "        # S = X[y_i: y_i+2, x_i: x_i+2]\n",
    "        S = X[x_i: x_i+2, y_i: y_i+2]\n",
    "        print(S)\n",
    "        print()\n",
    "        "
   ]
  },
  {
   "source": [
    "This scan works as expected but we can see that not all elements are $2 \\times 2$ as we expect them to be. This always happens when we're at the edge of the matrix.\n",
    "\n",
    "One way to fix this is to add zero-padding where we add a certain number of rows and columns to all sides of the matrix. In this case, because we're interested in a $2 \\times 2$ view, let's pad $X$ with a single layer of 0's on all sides."
   ],
   "cell_type": "markdown",
   "metadata": {}
  },
  {
   "cell_type": "code",
   "execution_count": 40,
   "metadata": {},
   "outputs": [
    {
     "output_type": "execute_result",
     "data": {
      "text/plain": [
       "array([[  0,   0,   0,   0,   0,   0,   0],\n",
       "       [  0, 143, 218, 157,  12, 101,   0],\n",
       "       [  0, 189, 190, 222, 208, 146,   0],\n",
       "       [  0,  63, 126, 141, 187,  29,   0],\n",
       "       [  0, 218, 217,  31,  61, 174,   0],\n",
       "       [  0, 241,   2,  68, 123, 223,   0],\n",
       "       [  0,   0,   0,   0,   0,   0,   0]])"
      ]
     },
     "metadata": {},
     "execution_count": 40
    }
   ],
   "source": [
    "X_pad = np.pad(X, (1,1), mode='constant')\n",
    "X_pad"
   ]
  },
  {
   "source": [
    "Great, the padding worked! Now let's try that again."
   ],
   "cell_type": "markdown",
   "metadata": {}
  },
  {
   "cell_type": "code",
   "execution_count": 49,
   "metadata": {},
   "outputs": [
    {
     "output_type": "stream",
     "name": "stdout",
     "text": [
      "[[  0   0]\n [  0 143]]\n\n[[  0   0]\n [143 218]]\n\n[[  0   0]\n [218 157]]\n\n[[  0   0]\n [157  12]]\n\n[[  0   0]\n [ 12 101]]\n\n[[  0 143]\n [  0 189]]\n\n[[143 218]\n [189 190]]\n\n[[218 157]\n [190 222]]\n\n[[157  12]\n [222 208]]\n\n[[ 12 101]\n [208 146]]\n\n[[  0 189]\n [  0  63]]\n\n[[189 190]\n [ 63 126]]\n\n[[190 222]\n [126 141]]\n\n[[222 208]\n [141 187]]\n\n[[208 146]\n [187  29]]\n\n[[  0  63]\n [  0 218]]\n\n[[ 63 126]\n [218 217]]\n\n[[126 141]\n [217  31]]\n\n[[141 187]\n [ 31  61]]\n\n[[187  29]\n [ 61 174]]\n\n[[  0 218]\n [  0 241]]\n\n[[218 217]\n [241   2]]\n\n[[217  31]\n [  2  68]]\n\n[[ 31  61]\n [ 68 123]]\n\n[[ 61 174]\n [123 223]]\n\n"
     ]
    }
   ],
   "source": [
    "x, y = X_pad.shape\n",
    "for x_i in range(x):\n",
    "    for y_i in range(y):\n",
    "        if x_i >= (x-2):\n",
    "            continue\n",
    "        if y_i >= (y-2):\n",
    "            continue\n",
    "        S = X_pad[x_i: x_i+2, y_i: y_i+2]\n",
    "        print(S)\n",
    "        print()"
   ]
  },
  {
   "source": [
    "Perfect! Now let's look at how we can element-wise multiply $S$ by another matrix representing the kernel which we call $K$."
   ],
   "cell_type": "markdown",
   "metadata": {}
  },
  {
   "cell_type": "code",
   "execution_count": 54,
   "metadata": {},
   "outputs": [
    {
     "output_type": "stream",
     "name": "stdout",
     "text": [
      "[[-3  3]\n [ 3 -1]]\n\n\n[[   0    0]\n [   0 -143]]\n\n[[   0    0]\n [ 429 -218]]\n\n[[   0    0]\n [ 654 -157]]\n\n[[  0   0]\n [471 -12]]\n\n[[   0    0]\n [  36 -101]]\n\n[[   0  429]\n [   0 -189]]\n\n[[-429  654]\n [ 567 -190]]\n\n[[-654  471]\n [ 570 -222]]\n\n[[-471   36]\n [ 666 -208]]\n\n[[ -36  303]\n [ 624 -146]]\n\n[[  0 567]\n [  0 -63]]\n\n[[-567  570]\n [ 189 -126]]\n\n[[-570  666]\n [ 378 -141]]\n\n[[-666  624]\n [ 423 -187]]\n\n[[-624  438]\n [ 561  -29]]\n\n[[   0  189]\n [   0 -218]]\n\n[[-189  378]\n [ 654 -217]]\n\n[[-378  423]\n [ 651  -31]]\n\n[[-423  561]\n [  93  -61]]\n\n[[-561   87]\n [ 183 -174]]\n\n[[   0  654]\n [   0 -241]]\n\n[[-654  651]\n [ 723   -2]]\n\n[[-651   93]\n [   6  -68]]\n\n[[ -93  183]\n [ 204 -123]]\n\n[[-183  522]\n [ 369 -223]]\n\n"
     ]
    }
   ],
   "source": [
    "K = np.random.randint(low=-5, high=5, size=(2,2))\n",
    "print(K)\n",
    "print()\n",
    "print()\n",
    "x, y = X_pad.shape\n",
    "for x_i in range(x):\n",
    "    for y_i in range(y):\n",
    "        if x_i >= (x-2):\n",
    "            continue\n",
    "        if y_i >= (y-2):\n",
    "            continue\n",
    "        S = X_pad[x_i: x_i+2, y_i: y_i+2]\n",
    "        print(K*S)\n",
    "        print()"
   ]
  },
  {
   "source": [
    "Awesome. Now let's sum those matrices."
   ],
   "cell_type": "markdown",
   "metadata": {}
  },
  {
   "cell_type": "code",
   "execution_count": 58,
   "metadata": {},
   "outputs": [
    {
     "output_type": "stream",
     "name": "stdout",
     "text": [
      "[[-2 -2]\n [ 4 -2]]\n\n\n-286\n\n136\n\n558\n\n604\n\n-154\n\n-664\n\n-346\n\n-434\n\n134\n\n314\n\n-504\n\n-758\n\n-602\n\n-670\n\n-18\n\n-562\n\n60\n\n272\n\n-654\n\n-536\n\n-918\n\n90\n\n-624\n\n-158\n\n-424\n\n"
     ]
    }
   ],
   "source": [
    "K = np.random.randint(low=-5, high=5, size=(2,2))\n",
    "print(K)\n",
    "print()\n",
    "print()\n",
    "x, y = X_pad.shape\n",
    "for x_i in range(x):\n",
    "    for y_i in range(y):\n",
    "        if x_i >= (x-2):\n",
    "            continue\n",
    "        if y_i >= (y-2):\n",
    "            continue\n",
    "        S = X_pad[x_i: x_i+2, y_i: y_i+2]\n",
    "        print( (K*S).sum() )\n",
    "        print()"
   ]
  },
  {
   "source": [
    "Let's use these sum values to construct a new matrix $Z$."
   ],
   "cell_type": "markdown",
   "metadata": {}
  },
  {
   "cell_type": "code",
   "execution_count": 62,
   "metadata": {},
   "outputs": [
    {
     "output_type": "stream",
     "name": "stdout",
     "text": [
      "Kernel:\n[[ 0  1]\n [ 4 -1]]\n\n\nConvolved:\n"
     ]
    },
    {
     "output_type": "execute_result",
     "data": {
      "text/plain": [
       "array([[-143,  354,  715,  616,  -53],\n",
       "       [ -46,  784,  695,  692,  787],\n",
       "       [ 126,  316,  585,  585,  865],\n",
       "       [-155,  781,  978,  250,   99],\n",
       "       [ -23, 1179,  -29,  210,  443]])"
      ]
     },
     "metadata": {},
     "execution_count": 62
    }
   ],
   "source": [
    "Z = np.zeros_like(X) # transformation should have input dim\n",
    "\n",
    "K = np.random.randint(low=-5, high=5, size=(2,2))\n",
    "print('Kernel:')\n",
    "print(K)\n",
    "print()\n",
    "print()\n",
    "x, y = X_pad.shape\n",
    "for x_i in range(x):\n",
    "    for y_i in range(y):\n",
    "        if x_i >= (x-2):\n",
    "            continue\n",
    "        if y_i >= (y-2):\n",
    "            continue\n",
    "        S = X_pad[x_i: x_i+2, y_i: y_i+2]\n",
    "        Z[x_i, y_i] = (K*S).sum()\n",
    "print('Convolved:')\n",
    "Z"
   ]
  },
  {
   "source": [
    "Done."
   ],
   "cell_type": "markdown",
   "metadata": {}
  },
  {
   "source": [
    "Bugfixing."
   ],
   "cell_type": "markdown",
   "metadata": {}
  },
  {
   "cell_type": "code",
   "execution_count": 32,
   "metadata": {},
   "outputs": [],
   "source": [
    "def convolve(image: np.ndarray, kernel: np.ndarray) -> np.ndarray:\n",
    "    \"\"\"\n",
    "    Convolve an image with a kernel assuming zero-padding of the image to handle the borders\n",
    "\n",
    "    :param image: the image (either greyscale shape=(rows, cols) or colour shape=(rows, cols, channels))\n",
    "    :type numpy.ndarray\n",
    "\n",
    "    :param: kernel: the kernel (shape=(kheight, kwidth); both dimensions odd)\n",
    "    :type: numpy.ndarray\n",
    "\n",
    "    :returns the convolved image (of the same shape as the input image)\n",
    "    :rtype numpy.ndarray\n",
    "    \"\"\"\n",
    "    im_count_row, im_count_col = image.shape\n",
    "    kern_count_row, kern_count_col = kernel.shape\n",
    "    if (kern_count_row % 2) == 0:\n",
    "        raise ValueError('Kernel cannot be an even dimension!')\n",
    "    if (kern_count_col % 2) == 0:\n",
    "        raise ValueError('Kernel cannot be an even dimension!')\n",
    "    out = np.zeros_like(image)\n",
    "    # Nixon: width of padding should be half the size of kernel\n",
    "    padding_tb_thickness = np.floor((kern_count_row/2)).astype(int) # top & bottom padding thickness\n",
    "    padding_lr_thickness = np.floor((kern_count_col/2)).astype(int) # left & right padding thickness\n",
    "    image_padded = np.pad(image, (padding_tb_thickness, padding_lr_thickness), mode='constant')\n",
    "    print(f'padded_image:\\n{image_padded}')\n",
    "    centre_pos_x = padding_lr_thickness\n",
    "    centre_pos_y = padding_tb_thickness\n",
    "    for y in range(im_count_row):\n",
    "        centre_pos_y = padding_tb_thickness\n",
    "        for x in range(im_count_col):\n",
    "            print(f\"x:{x}, y:{y}\")\n",
    "            # guard against going past padding\n",
    "            # if centre_pos_x > im_count_col:\n",
    "            #     continue\n",
    "            # if centre_pos_y > im_count_row:\n",
    "            #     continue\n",
    "            # convolve\n",
    "            image_section = image_padded[y: y+kern_count_row, x: x+kern_count_col]\n",
    "            out[centre_pos_x,centre_pos_y] = (kernel * image_section).sum()\n",
    "            print('---')\n",
    "            print(f\"im_sect:\\n{image_section}\\nctr_pos:{centre_pos_x},{centre_pos_y}\")\n",
    "            print('---')\n",
    "            \n",
    "            centre_pos_y += 1\n",
    "        centre_pos_x += 1\n",
    "    return out"
   ]
  },
  {
   "cell_type": "code",
   "execution_count": 26,
   "metadata": {},
   "outputs": [
    {
     "output_type": "execute_result",
     "data": {
      "text/plain": [
       "array([[172,  47, 117, 192,  67, 251],\n",
       "       [195, 103,   9, 211,  21, 242],\n",
       "       [ 36,  87,  70, 216,  88, 140],\n",
       "       [ 58, 193, 230,  39,  87, 174],\n",
       "       [ 88,  81, 165,  25,  77,  72],\n",
       "       [  9, 148, 115, 208, 243, 197],\n",
       "       [254,  79, 175, 192,  82,  99],\n",
       "       [216, 177, 243,  29, 147, 147],\n",
       "       [142, 167,  32, 193,   9, 185],\n",
       "       [127,  32,  31, 202, 244, 151],\n",
       "       [163, 254, 203, 114, 183,  28],\n",
       "       [ 34, 128, 128, 164,  53, 133],\n",
       "       [ 38, 232, 244,  17,  79, 132],\n",
       "       [105,  42, 186,  31, 120,   1],\n",
       "       [ 65, 231, 169,  57,  35, 102],\n",
       "       [119,  11, 174,  82,  91, 128],\n",
       "       [142,  99,  53, 140, 121, 170],\n",
       "       [ 84, 203,  68,   6, 196,  47],\n",
       "       [127, 244, 131, 204, 100, 180],\n",
       "       [232,  78, 143, 148, 227, 186],\n",
       "       [ 23, 207, 141, 117,  85,  48],\n",
       "       [ 49,  69, 169, 163, 192,  95]])"
      ]
     },
     "metadata": {},
     "execution_count": 26
    }
   ],
   "source": [
    "np.random.seed(0)\n",
    "image = np.random.randint(low=0, high=255, size=(22,6))\n",
    "image"
   ]
  },
  {
   "cell_type": "code",
   "execution_count": 33,
   "metadata": {},
   "outputs": [
    {
     "output_type": "stream",
     "name": "stdout",
     "text": [
      "padded_image:\n[[  0   0   0   0   0   0   0   0]\n [  0 172  47 117 192  67 251   0]\n [  0 195 103   9 211  21 242   0]\n [  0  36  87  70 216  88 140   0]\n [  0  58 193 230  39  87 174   0]\n [  0  88  81 165  25  77  72   0]\n [  0   9 148 115 208 243 197   0]\n [  0 254  79 175 192  82  99   0]\n [  0 216 177 243  29 147 147   0]\n [  0 142 167  32 193   9 185   0]\n [  0 127  32  31 202 244 151   0]\n [  0 163 254 203 114 183  28   0]\n [  0  34 128 128 164  53 133   0]\n [  0  38 232 244  17  79 132   0]\n [  0 105  42 186  31 120   1   0]\n [  0  65 231 169  57  35 102   0]\n [  0 119  11 174  82  91 128   0]\n [  0 142  99  53 140 121 170   0]\n [  0  84 203  68   6 196  47   0]\n [  0 127 244 131 204 100 180   0]\n [  0 232  78 143 148 227 186   0]\n [  0  23 207 141 117  85  48   0]\n [  0  49  69 169 163 192  95   0]\n [  0   0   0   0   0   0   0   0]]\nx:0, y:0\n---\nim_sect:\n[[  0   0   0]\n [  0 172  47]\n [  0 195 103]]\nctr_pos:1,1\n---\nx:1, y:0\n---\nim_sect:\n[[  0   0   0]\n [172  47 117]\n [195 103   9]]\nctr_pos:1,2\n---\nx:2, y:0\n---\nim_sect:\n[[  0   0   0]\n [ 47 117 192]\n [103   9 211]]\nctr_pos:1,3\n---\nx:3, y:0\n---\nim_sect:\n[[  0   0   0]\n [117 192  67]\n [  9 211  21]]\nctr_pos:1,4\n---\nx:4, y:0\n---\nim_sect:\n[[  0   0   0]\n [192  67 251]\n [211  21 242]]\nctr_pos:1,5\n---\nx:5, y:0\n"
     ]
    },
    {
     "output_type": "error",
     "ename": "IndexError",
     "evalue": "index 6 is out of bounds for axis 1 with size 6",
     "traceback": [
      "\u001b[0;31m---------------------------------------------------------------------------\u001b[0m",
      "\u001b[0;31mIndexError\u001b[0m                                Traceback (most recent call last)",
      "\u001b[0;32m<ipython-input-33-1f7971a82875>\u001b[0m in \u001b[0;36m<module>\u001b[0;34m\u001b[0m\n\u001b[1;32m      1\u001b[0m \u001b[0mkernel\u001b[0m \u001b[0;34m=\u001b[0m \u001b[0;34m(\u001b[0m\u001b[0;36m1\u001b[0m\u001b[0;34m/\u001b[0m\u001b[0;36m9\u001b[0m\u001b[0;34m)\u001b[0m \u001b[0;34m*\u001b[0m \u001b[0mnp\u001b[0m\u001b[0;34m.\u001b[0m\u001b[0mones\u001b[0m\u001b[0;34m(\u001b[0m\u001b[0;34m(\u001b[0m\u001b[0;36m3\u001b[0m\u001b[0;34m,\u001b[0m\u001b[0;36m3\u001b[0m\u001b[0;34m)\u001b[0m\u001b[0;34m)\u001b[0m\u001b[0;34m\u001b[0m\u001b[0;34m\u001b[0m\u001b[0m\n\u001b[0;32m----> 2\u001b[0;31m \u001b[0mconv_img\u001b[0m \u001b[0;34m=\u001b[0m \u001b[0mconvolve\u001b[0m\u001b[0;34m(\u001b[0m\u001b[0mimage\u001b[0m\u001b[0;34m,\u001b[0m \u001b[0mkernel\u001b[0m\u001b[0;34m)\u001b[0m\u001b[0;34m\u001b[0m\u001b[0;34m\u001b[0m\u001b[0m\n\u001b[0m",
      "\u001b[0;32m<ipython-input-32-47a4948a568e>\u001b[0m in \u001b[0;36mconvolve\u001b[0;34m(image, kernel)\u001b[0m\n\u001b[1;32m     37\u001b[0m             \u001b[0;31m# convolve\u001b[0m\u001b[0;34m\u001b[0m\u001b[0;34m\u001b[0m\u001b[0;34m\u001b[0m\u001b[0m\n\u001b[1;32m     38\u001b[0m             \u001b[0mimage_section\u001b[0m \u001b[0;34m=\u001b[0m \u001b[0mimage_padded\u001b[0m\u001b[0;34m[\u001b[0m\u001b[0my\u001b[0m\u001b[0;34m:\u001b[0m \u001b[0my\u001b[0m\u001b[0;34m+\u001b[0m\u001b[0mkern_count_row\u001b[0m\u001b[0;34m,\u001b[0m \u001b[0mx\u001b[0m\u001b[0;34m:\u001b[0m \u001b[0mx\u001b[0m\u001b[0;34m+\u001b[0m\u001b[0mkern_count_col\u001b[0m\u001b[0;34m]\u001b[0m\u001b[0;34m\u001b[0m\u001b[0;34m\u001b[0m\u001b[0m\n\u001b[0;32m---> 39\u001b[0;31m             \u001b[0mout\u001b[0m\u001b[0;34m[\u001b[0m\u001b[0mcentre_pos_x\u001b[0m\u001b[0;34m,\u001b[0m\u001b[0mcentre_pos_y\u001b[0m\u001b[0;34m]\u001b[0m \u001b[0;34m=\u001b[0m \u001b[0;34m(\u001b[0m\u001b[0mkernel\u001b[0m \u001b[0;34m*\u001b[0m \u001b[0mimage_section\u001b[0m\u001b[0;34m)\u001b[0m\u001b[0;34m.\u001b[0m\u001b[0msum\u001b[0m\u001b[0;34m(\u001b[0m\u001b[0;34m)\u001b[0m\u001b[0;34m\u001b[0m\u001b[0;34m\u001b[0m\u001b[0m\n\u001b[0m\u001b[1;32m     40\u001b[0m             \u001b[0mprint\u001b[0m\u001b[0;34m(\u001b[0m\u001b[0;34m'---'\u001b[0m\u001b[0;34m)\u001b[0m\u001b[0;34m\u001b[0m\u001b[0;34m\u001b[0m\u001b[0m\n\u001b[1;32m     41\u001b[0m             \u001b[0mprint\u001b[0m\u001b[0;34m(\u001b[0m\u001b[0;34mf\"im_sect:\\n{image_section}\\nctr_pos:{centre_pos_x},{centre_pos_y}\"\u001b[0m\u001b[0;34m)\u001b[0m\u001b[0;34m\u001b[0m\u001b[0;34m\u001b[0m\u001b[0m\n",
      "\u001b[0;31mIndexError\u001b[0m: index 6 is out of bounds for axis 1 with size 6"
     ]
    }
   ],
   "source": [
    "kernel = (1/9) * np.ones((3,3))\n",
    "conv_img = convolve(image, kernel)"
   ]
  },
  {
   "cell_type": "code",
   "execution_count": 146,
   "metadata": {},
   "outputs": [
    {
     "output_type": "execute_result",
     "data": {
      "text/plain": [
       "array([[165, 127, 129, 133, 198, 140,  90,  74],\n",
       "       [251, 182,  78,  62,  72, 199,  45, 133],\n",
       "       [ 47, 187, 170, 195, 138, 242,  57, 219],\n",
       "       [ 89, 131, 125, 206,  82, 197, 186, 132],\n",
       "       [ 17, 197, 191,  94, 152, 131,  69, 168],\n",
       "       [164,  58, 177, 183, 152, 161, 146,  97],\n",
       "       [206, 241, 135, 181, 235,  46, 240, 244],\n",
       "       [127, 161,  81, 157,  12, 118,  46, 118]])"
      ]
     },
     "metadata": {},
     "execution_count": 146
    }
   ],
   "source": [
    "image = np.random.randint(low=0, high=255, size=(8,8))\n",
    "image"
   ]
  },
  {
   "cell_type": "code",
   "execution_count": 46,
   "metadata": {},
   "outputs": [
    {
     "output_type": "execute_result",
     "data": {
      "text/plain": [
       "array([[  0,   0,   0,   0,   0],\n",
       "       [  0, 173,  87, 193,   0],\n",
       "       [  0,  70, 234,  53,   0],\n",
       "       [  0,  48,  94,  59,   0],\n",
       "       [  0,   0,   0,   0,   0]])"
      ]
     },
     "metadata": {},
     "execution_count": 46
    }
   ],
   "source": [
    "padded = np.pad(image, (1,1), mode='constant')\n",
    "padded"
   ]
  },
  {
   "cell_type": "code",
   "execution_count": 106,
   "metadata": {},
   "outputs": [
    {
     "output_type": "stream",
     "name": "stdout",
     "text": [
      "[[  0   0   0]\n [  0 173  87]\n [  0  70 234]]\n\n[[  0   0   0]\n [173  87 193]\n [ 70 234  53]]\n\n[[  0   0   0]\n [ 87 193   0]\n [234  53   0]]\n\n[[  0 173  87]\n [  0  70 234]\n [  0  48  94]]\n"
     ]
    }
   ],
   "source": [
    "start_lim = 1\n",
    "end_lim = image.shape[1] - 1\n",
    "# padded[start_row:end_row,start_col:end_col]\n",
    "print(padded[0:3,0:3])\n",
    "print()\n",
    "print(padded[0:3,1:4])\n",
    "print()\n",
    "print(padded[0:3,2:5])\n",
    "print()\n",
    "print(padded[1:4,0:3])"
   ]
  },
  {
   "cell_type": "code",
   "execution_count": 151,
   "metadata": {},
   "outputs": [
    {
     "output_type": "stream",
     "name": "stdout",
     "text": [
      "[[  0   0   0]\n [  0 173  87]\n [  0  70 234]]\n[[  0   0   0]\n [  0 173  87]\n [  0  70 234]]\n[[  0   0   0]\n [  0 173  87]\n [  0  70 234]]\n[[  0   0   0]\n [  0 173  87]\n [  0  70 234]]\n[[  0   0   0]\n [  0 173  87]\n [  0  70 234]]\n[[  0   0   0]\n [  0 173  87]\n [  0  70 234]]\n[[  0   0   0]\n [  0 173  87]\n [  0  70 234]]\n[[  0   0   0]\n [  0 173  87]\n [  0  70 234]]\n[[  0   0   0]\n [  0 173  87]\n [  0  70 234]]\n[[  0   0   0]\n [  0 173  87]\n [  0  70 234]]\n[[  0   0   0]\n [  0 173  87]\n [  0  70 234]]\n[[  0   0   0]\n [  0 173  87]\n [  0  70 234]]\n[[  0   0   0]\n [  0 173  87]\n [  0  70 234]]\n[[  0   0   0]\n [  0 173  87]\n [  0  70 234]]\n[[  0   0   0]\n [  0 173  87]\n [  0  70 234]]\n[[  0   0   0]\n [  0 173  87]\n [  0  70 234]]\n[[  0   0   0]\n [  0 173  87]\n [  0  70 234]]\n[[  0   0   0]\n [  0 173  87]\n [  0  70 234]]\n[[  0   0   0]\n [  0 173  87]\n [  0  70 234]]\n[[  0   0   0]\n [  0 173  87]\n [  0  70 234]]\n[[  0   0   0]\n [  0 173  87]\n [  0  70 234]]\n[[  0   0   0]\n [  0 173  87]\n [  0  70 234]]\n[[  0   0   0]\n [  0 173  87]\n [  0  70 234]]\n[[  0   0   0]\n [  0 173  87]\n [  0  70 234]]\n[[  0   0   0]\n [  0 173  87]\n [  0  70 234]]\n[[  0   0   0]\n [  0 173  87]\n [  0  70 234]]\n[[  0   0   0]\n [  0 173  87]\n [  0  70 234]]\n[[  0   0   0]\n [  0 173  87]\n [  0  70 234]]\n[[  0   0   0]\n [  0 173  87]\n [  0  70 234]]\n[[  0   0   0]\n [  0 173  87]\n [  0  70 234]]\n[[  0   0   0]\n [  0 173  87]\n [  0  70 234]]\n[[  0   0   0]\n [  0 173  87]\n [  0  70 234]]\n[[  0   0   0]\n [  0 173  87]\n [  0  70 234]]\n[[  0   0   0]\n [  0 173  87]\n [  0  70 234]]\n[[  0   0   0]\n [  0 173  87]\n [  0  70 234]]\n[[  0   0   0]\n [  0 173  87]\n [  0  70 234]]\n[[  0   0   0]\n [  0 173  87]\n [  0  70 234]]\n[[  0   0   0]\n [  0 173  87]\n [  0  70 234]]\n[[  0   0   0]\n [  0 173  87]\n [  0  70 234]]\n[[  0   0   0]\n [  0 173  87]\n [  0  70 234]]\n[[  0   0   0]\n [  0 173  87]\n [  0  70 234]]\n[[  0   0   0]\n [  0 173  87]\n [  0  70 234]]\n[[  0   0   0]\n [  0 173  87]\n [  0  70 234]]\n[[  0   0   0]\n [  0 173  87]\n [  0  70 234]]\n[[  0   0   0]\n [  0 173  87]\n [  0  70 234]]\n[[  0   0   0]\n [  0 173  87]\n [  0  70 234]]\n[[  0   0   0]\n [  0 173  87]\n [  0  70 234]]\n[[  0   0   0]\n [  0 173  87]\n [  0  70 234]]\n[[  0   0   0]\n [  0 173  87]\n [  0  70 234]]\n[[  0   0   0]\n [  0 173  87]\n [  0  70 234]]\n[[  0   0   0]\n [  0 173  87]\n [  0  70 234]]\n[[  0   0   0]\n [  0 173  87]\n [  0  70 234]]\n[[  0   0   0]\n [  0 173  87]\n [  0  70 234]]\n[[  0   0   0]\n [  0 173  87]\n [  0  70 234]]\n[[  0   0   0]\n [  0 173  87]\n [  0  70 234]]\n[[  0   0   0]\n [  0 173  87]\n [  0  70 234]]\n[[  0   0   0]\n [  0 173  87]\n [  0  70 234]]\n[[  0   0   0]\n [  0 173  87]\n [  0  70 234]]\n[[  0   0   0]\n [  0 173  87]\n [  0  70 234]]\n[[  0   0   0]\n [  0 173  87]\n [  0  70 234]]\n[[  0   0   0]\n [  0 173  87]\n [  0  70 234]]\n[[  0   0   0]\n [  0 173  87]\n [  0  70 234]]\n[[  0   0   0]\n [  0 173  87]\n [  0  70 234]]\n[[  0   0   0]\n [  0 173  87]\n [  0  70 234]]\n[[  0   0   0]\n [  0 173  87]\n [  0  70 234]]\n"
     ]
    }
   ],
   "source": [
    "x_start = 0\n",
    "x_end = 3\n",
    "y_start = 0\n",
    "y_end = 3\n",
    "\n",
    "# print(f\"{padded[y_start:y_end,x_start:x_end]}\")\n",
    "\n",
    "for x in range(image.shape[0]):\n",
    "    for y in range(image.shape[1]):\n",
    "        print(f\"{padded[y_start:y_end,x_start:x_end]}\")"
   ]
  },
  {
   "cell_type": "code",
   "execution_count": 148,
   "metadata": {},
   "outputs": [
    {
     "output_type": "stream",
     "name": "stdout",
     "text": [
      "(8, 8)\n"
     ]
    },
    {
     "output_type": "execute_result",
     "data": {
      "text/plain": [
       "array([[165, 127, 129, 133, 198, 140,  90,  74],\n",
       "       [251, 182,  78,  62,  72, 199,  45, 133],\n",
       "       [ 47, 187, 170, 195, 138, 242,  57, 219],\n",
       "       [ 89, 131, 125, 206,  82, 197, 186, 132],\n",
       "       [ 17, 197, 191,  94, 152, 131,  69, 168],\n",
       "       [164,  58, 177, 183, 152, 161, 146,  97],\n",
       "       [206, 241, 135, 181, 235,  46, 240, 244],\n",
       "       [127, 161,  81, 157,  12, 118,  46, 118]])"
      ]
     },
     "metadata": {},
     "execution_count": 148
    }
   ],
   "source": [
    "# vectorisation tricks\n",
    "print(image.shape)\n",
    "image"
   ]
  },
  {
   "cell_type": "code",
   "execution_count": 150,
   "metadata": {},
   "outputs": [
    {
     "output_type": "execute_result",
     "data": {
      "text/plain": [
       "array([[165, 127, 129, 133, 198, 140,  90,  74],\n",
       "       [251, 182,  78,  62,  72, 199,  45, 133],\n",
       "       [ 47, 187, 170, 195, 138, 242,  57, 219]])"
      ]
     },
     "metadata": {},
     "execution_count": 150
    }
   ],
   "source": [
    "image[np.array(np.arange(0,3))]"
   ]
  },
  {
   "cell_type": "code",
   "execution_count": 136,
   "metadata": {},
   "outputs": [],
   "source": [
    "def convolve2d(image, kernel):\n",
    "    \"\"\"\n",
    "    This function which takes an image and a kernel and returns the convolution of them.\n",
    "\n",
    "    :param image: a numpy array of size [image_height, image_width].\n",
    "    :param kernel: a numpy array of size [kernel_height, kernel_width].\n",
    "    :return: a numpy array of size [image_height, image_width] (convolution output).\n",
    "    \"\"\"\n",
    "    # convolution output\n",
    "    output = np.zeros_like(image)\n",
    "    print(image.shape)\n",
    "    print(image)\n",
    "    im_count_row, im_count_col = image.shape\n",
    "    kern_count_row, kern_count_col = kernel.shape\n",
    "\n",
    "    pad_count_row = np.floor((kern_count_row/2)).astype(int)\n",
    "    pad_count_col = np.floor((kern_count_col/2)).astype(int)\n",
    "\n",
    "    # Add zero padding to the input image\n",
    "    image_padded = np.pad(image, (pad_count_row, pad_count_col), mode='constant')\n",
    "    print(image_padded.shape)\n",
    "    print(image_padded)\n",
    "    print(pad_count_row)\n",
    "    print(pad_count_col)\n",
    "    \n",
    "    # print(f\"{padded[y_start:y_end,x_start:x_end]}\")\n",
    "\n",
    "    image_padded[pad_count_row:-pad_count_col, pad_count_col:-pad_count_row] = image\n",
    "    print(image_padded)\n",
    "\n",
    "    # Loop over every pixel of the image\n",
    "    print('image.shape', image.shape)\n",
    "    for x in range(image.shape[0]):\n",
    "        for y in range(image.shape[1]):\n",
    "            # element-wise multiplication of the kernel and the image\n",
    "            output[x, y]=(kernel * image_padded[x: x+kern_count_col, y: y+kern_count_row]).sum()\n",
    "\n",
    "    return output"
   ]
  },
  {
   "cell_type": "code",
   "execution_count": 137,
   "metadata": {},
   "outputs": [
    {
     "output_type": "stream",
     "name": "stdout",
     "text": [
      "(8, 10)\n[[169 197  50 240 185  94 136 228 180  24]\n [206 233 145  56 108 221  70  45  73 187]\n [ 94  13  40 181 117  54   1  93  93  86]\n [169  14 159 211  65 169 107 114 157  85]\n [ 47 110  11  27 190   7 166 218 202 239]\n [162 147  96 104  28 115 245  82 224 188]\n [ 12 146 210  54 228  34 204 227 250  92]\n [ 98  86 156 236 167  28 147  59 186 116]]\n(10, 12)\n[[  0   0   0   0   0   0   0   0   0   0   0   0]\n [  0 169 197  50 240 185  94 136 228 180  24   0]\n [  0 206 233 145  56 108 221  70  45  73 187   0]\n [  0  94  13  40 181 117  54   1  93  93  86   0]\n [  0 169  14 159 211  65 169 107 114 157  85   0]\n [  0  47 110  11  27 190   7 166 218 202 239   0]\n [  0 162 147  96 104  28 115 245  82 224 188   0]\n [  0  12 146 210  54 228  34 204 227 250  92   0]\n [  0  98  86 156 236 167  28 147  59 186 116   0]\n [  0   0   0   0   0   0   0   0   0   0   0   0]]\n1\n1\n[[  0   0   0   0   0   0   0   0   0   0   0   0]\n [  0 169 197  50 240 185  94 136 228 180  24   0]\n [  0 206 233 145  56 108 221  70  45  73 187   0]\n [  0  94  13  40 181 117  54   1  93  93  86   0]\n [  0 169  14 159 211  65 169 107 114 157  85   0]\n [  0  47 110  11  27 190   7 166 218 202 239   0]\n [  0 162 147  96 104  28 115 245  82 224 188   0]\n [  0  12 146 210  54 228  34 204 227 250  92   0]\n [  0  98  86 156 236 167  28 147  59 186 116   0]\n [  0   0   0   0   0   0   0   0   0   0   0   0]]\nimage.shape (8, 10)\n"
     ]
    },
    {
     "output_type": "execute_result",
     "data": {
      "text/plain": [
       "array([[ 89, 111, 102,  87, 100,  90,  88,  81,  81,  51],\n",
       "       [101, 127, 128, 124, 139, 109, 104, 102, 112,  71],\n",
       "       [ 80, 119, 116, 120, 131, 101,  97,  83, 103,  75],\n",
       "       [ 49,  73,  85, 111, 113,  97, 103, 127, 142,  95],\n",
       "       [ 72, 101,  97,  99, 101, 121, 135, 168, 167, 121],\n",
       "       [ 69, 104, 100, 105,  87, 135, 144, 202, 191, 132],\n",
       "       [ 72, 123, 137, 142, 110, 132, 126, 180, 158, 117],\n",
       "       [ 38,  78,  98, 116,  83,  89,  77, 119, 103,  71]])"
      ]
     },
     "metadata": {},
     "execution_count": 137
    }
   ],
   "source": [
    "import numpy as np\n",
    "X = np.random.randint(0,255,(8,10))\n",
    "K = (1/9) * np.ones((3,3))\n",
    "convolve2d(X, K)"
   ]
  },
  {
   "cell_type": "code",
   "execution_count": null,
   "metadata": {},
   "outputs": [],
   "source": []
  }
 ]
}